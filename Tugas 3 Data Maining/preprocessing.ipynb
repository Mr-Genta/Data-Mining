{
 "cells": [
  {
   "cell_type": "code",
   "execution_count": 2,
   "id": "acccf02f",
   "metadata": {
    "ExecuteTime": {
     "end_time": "2024-06-25T08:07:09.514684Z",
     "start_time": "2024-06-25T08:07:07.915244Z"
    },
    "executionInfo": {
     "elapsed": 383,
     "status": "ok",
     "timestamp": 1720927760595,
     "user": {
      "displayName": "GENTA ANDREAN",
      "userId": "04183275998534366528"
     },
     "user_tz": -420
    },
    "id": "acccf02f"
   },
   "outputs": [],
   "source": [
    "import numpy as np\n",
    "import matplotlib.pyplot as plt\n",
    "import pandas as pd\n",
    "import scipy.sparse\n",
    "from sklearn.impute import SimpleImputer"
   ]
  },
  {
   "cell_type": "code",
   "execution_count": 3,
   "id": "jp94z-V3P4do",
   "metadata": {
    "colab": {
     "base_uri": "https://localhost:8080/"
    },
    "executionInfo": {
     "elapsed": 2775,
     "status": "ok",
     "timestamp": 1720927763738,
     "user": {
      "displayName": "GENTA ANDREAN",
      "userId": "04183275998534366528"
     },
     "user_tz": -420
    },
    "id": "jp94z-V3P4do",
    "outputId": "c2a37694-7311-43ce-ce3f-03bc320243a5"
   },
   "outputs": [],
   "source": [
    "dataset = pd.read_csv('titanic_surv.csv', sep=':')\n",
    "dataset = pd.read_csv('titanic_surv.csv', sep=None, engine='python')\n",
    "x = dataset.iloc[:, :-1].values\n",
    "y = dataset.iloc[:, -1].values"
   ]
  },
  {
   "cell_type": "code",
   "execution_count": 4,
   "id": "ba18dc12",
   "metadata": {
    "ExecuteTime": {
     "end_time": "2024-06-25T08:04:29.467475Z",
     "start_time": "2024-06-25T08:04:29.341175Z"
    },
    "colab": {
     "base_uri": "https://localhost:8080/"
    },
    "executionInfo": {
     "elapsed": 10,
     "status": "ok",
     "timestamp": 1720927763738,
     "user": {
      "displayName": "GENTA ANDREAN",
      "userId": "04183275998534366528"
     },
     "user_tz": -420
    },
    "id": "ba18dc12",
    "outputId": "c25923fc-d463-483b-ac40-8aae41222cb2"
   },
   "outputs": [
    {
     "name": "stdout",
     "output_type": "stream",
     "text": [
      "[[3 'Kelly, Mr. James' 'male' ... 7.8292 nan 'Q']\n",
      " [3 'Wilkes, Mrs. James (Ellen Needs)' 'female' ... 7.0 nan 'S']\n",
      " [2 'Myles, Mr. Thomas Francis' 'male' ... 9.6875 nan 'Q']\n",
      " ...\n",
      " [3 'Saether, Mr. Simon Sivertsen' 'male' ... 7.25 nan 'S']\n",
      " [3 'Ware, Mr. Frederick' 'male' ... 8.05 nan 'S']\n",
      " [3 'Peter, Master. Michael J' 'male' ... 22.3583 nan 'C']]\n"
     ]
    }
   ],
   "source": [
    "print(x)"
   ]
  },
  {
   "cell_type": "code",
   "execution_count": 5,
   "id": "f44bb834",
   "metadata": {
    "ExecuteTime": {
     "end_time": "2024-06-25T08:04:30.858247Z",
     "start_time": "2024-06-25T08:04:30.852864Z"
    },
    "colab": {
     "base_uri": "https://localhost:8080/"
    },
    "executionInfo": {
     "elapsed": 11,
     "status": "ok",
     "timestamp": 1720927763739,
     "user": {
      "displayName": "GENTA ANDREAN",
      "userId": "04183275998534366528"
     },
     "user_tz": -420
    },
    "id": "f44bb834",
    "outputId": "ab8704ae-56e4-444c-e32a-59a496076d2e"
   },
   "outputs": [
    {
     "name": "stdout",
     "output_type": "stream",
     "text": [
      "[0 1 0 0 1 0 1 0 1 0 0 0 1 0 1 1 0 0 1 1 0 0 1 0 1 0 1 0 0 0 0 0 1 1 0 0 1\n",
      " 1 0 0 0 0 0 1 1 0 0 0 1 1 0 0 1 1 0 0 0 0 0 1 0 0 0 1 0 1 1 0 0 1 1 0 1 0\n",
      " 1 0 0 1 0 1 0 0 0 0 0 0 1 1 1 0 1 0 1 0 0 0 1 0 1 0 1 0 0 0 1 0 0 0 0 0 0\n",
      " 1 1 1 1 0 0 1 0 1 1 0 1 0 0 1 0 1 0 0 0 0 1 0 0 0 0 0 1 0 1 1 0 0 0 0 0 0\n",
      " 0 0 1 0 0 1 0 0 1 1 0 1 1 0 1 0 0 1 0 0 1 1 0 0 0 0 0 1 1 0 1 1 0 0 1 0 1\n",
      " 0 1 0 1 0 0 0 0 0 0 0 0 1 0 1 1 0 0 1 0 0 1 0 1 0 0 0 0 1 1 0 1 0 1 0 1 0\n",
      " 1 0 1 1 0 1 0 0 0 1 0 0 0 0 0 0 1 1 1 1 0 0 0 0 1 0 1 1 1 0 0 0 0 0 0 0 1\n",
      " 0 0 0 1 1 0 0 0 0 1 0 0 0 1 1 0 1 0 0 0 0 1 0 1 1 1 0 0 0 0 0 0 1 0 0 0 0\n",
      " 1 0 0 0 0 0 0 0 1 1 0 0 0 1 0 0 0 1 1 1 0 0 0 0 0 0 0 0 1 0 1 0 0 0 1 0 0\n",
      " 1 0 0 0 0 0 0 0 0 0 1 0 1 0 1 0 1 1 0 0 0 1 0 1 0 0 1 0 1 1 0 1 1 0 1 1 0\n",
      " 0 1 0 0 1 1 1 0 0 0 0 0 1 1 0 1 0 0 0 0 0 1 0 0 0 1 0 1 0 0 1 0 1 0 0 0 0\n",
      " 0 1 1 1 1 1 0 1 0 0 0]\n"
     ]
    }
   ],
   "source": [
    "print(y)"
   ]
  },
  {
   "cell_type": "code",
   "execution_count": 6,
   "id": "5754500a-6610-4693-9041-33b6d792f207",
   "metadata": {},
   "outputs": [],
   "source": [
    "x = pd.DataFrame(x)"
   ]
  },
  {
   "cell_type": "code",
   "execution_count": 7,
   "id": "94f0f27a-b4a0-4377-951b-a74ee1f5c6d4",
   "metadata": {},
   "outputs": [],
   "source": [
    "x_11 = x.iloc[:, 0:11]"
   ]
  },
  {
   "cell_type": "code",
   "execution_count": 8,
   "id": "1adfd9fa-1c1f-4349-913d-198fab0353af",
   "metadata": {},
   "outputs": [],
   "source": [
    "numeric_cols_11 = x_11.select_dtypes(include=[np.number]).columns\n",
    "non_numeric_cols_11 = x_11.select_dtypes(exclude=[np.number]).columns"
   ]
  },
  {
   "cell_type": "code",
   "execution_count": 9,
   "id": "c713678f",
   "metadata": {
    "ExecuteTime": {
     "end_time": "2024-06-25T08:04:33.724197Z",
     "start_time": "2024-06-25T08:04:33.715386Z"
    },
    "executionInfo": {
     "elapsed": 9,
     "status": "ok",
     "timestamp": 1720927763739,
     "user": {
      "displayName": "GENTA ANDREAN",
      "userId": "04183275998534366528"
     },
     "user_tz": -420
    },
    "id": "c713678f"
   },
   "outputs": [],
   "source": [
    "if len(numeric_cols_11) > 0:\n",
    "    # Imputasi missing values untuk kolom numeric menggunakan strategi 'mean'\n",
    "    imputer_numeric = SimpleImputer(strategy='mean')\n",
    "    x_11[numeric_cols_11] = imputer_numeric.fit_transform(x_11[numeric_cols_11])"
   ]
  },
  {
   "cell_type": "code",
   "execution_count": 10,
   "id": "a6c7f93f-9395-47b7-b5b0-695114b7a646",
   "metadata": {},
   "outputs": [],
   "source": [
    "x.iloc[:, 0:11] = x_11"
   ]
  },
  {
   "cell_type": "code",
   "execution_count": 11,
   "id": "820ac933",
   "metadata": {
    "ExecuteTime": {
     "end_time": "2024-06-25T08:04:34.998138Z",
     "start_time": "2024-06-25T08:04:34.988402Z"
    },
    "colab": {
     "base_uri": "https://localhost:8080/"
    },
    "executionInfo": {
     "elapsed": 9,
     "status": "ok",
     "timestamp": 1720927763739,
     "user": {
      "displayName": "GENTA ANDREAN",
      "userId": "04183275998534366528"
     },
     "user_tz": -420
    },
    "id": "820ac933",
    "outputId": "97c47f5f-6d2d-4e36-9d19-6b183572d8de"
   },
   "outputs": [
    {
     "name": "stdout",
     "output_type": "stream",
     "text": [
      "     0                                             1       2     3  4  5  \\\n",
      "0    3                              Kelly, Mr. James    male  34.5  0  0   \n",
      "1    3              Wilkes, Mrs. James (Ellen Needs)  female  47.0  1  0   \n",
      "2    2                     Myles, Mr. Thomas Francis    male  62.0  0  0   \n",
      "3    3                              Wirz, Mr. Albert    male  27.0  0  0   \n",
      "4    3  Hirvonen, Mrs. Alexander (Helga E Lindqvist)  female  22.0  1  1   \n",
      "..  ..                                           ...     ...   ... .. ..   \n",
      "413  3                            Spector, Mr. Woolf    male   NaN  0  0   \n",
      "414  1                  Oliva y Ocana, Dona. Fermina  female  39.0  0  0   \n",
      "415  3                  Saether, Mr. Simon Sivertsen    male  38.5  0  0   \n",
      "416  3                           Ware, Mr. Frederick    male   NaN  0  0   \n",
      "417  3                      Peter, Master. Michael J    male   NaN  1  1   \n",
      "\n",
      "                      6        7     8  9  \n",
      "0                330911   7.8292   NaN  Q  \n",
      "1                363272      7.0   NaN  S  \n",
      "2                240276   9.6875   NaN  Q  \n",
      "3                315154   8.6625   NaN  S  \n",
      "4               3101298  12.2875   NaN  S  \n",
      "..                  ...      ...   ... ..  \n",
      "413           A.5. 3236     8.05   NaN  S  \n",
      "414            PC 17758    108.9  C105  C  \n",
      "415  SOTON/O.Q. 3101262     7.25   NaN  S  \n",
      "416              359309     8.05   NaN  S  \n",
      "417                2668  22.3583   NaN  C  \n",
      "\n",
      "[418 rows x 10 columns]\n"
     ]
    }
   ],
   "source": [
    "print(x)"
   ]
  },
  {
   "cell_type": "code",
   "execution_count": 12,
   "id": "b1ddf59b",
   "metadata": {
    "ExecuteTime": {
     "end_time": "2024-06-25T08:04:37.772715Z",
     "start_time": "2024-06-25T08:04:37.767151Z"
    },
    "colab": {
     "base_uri": "https://localhost:8080/"
    },
    "executionInfo": {
     "elapsed": 8,
     "status": "ok",
     "timestamp": 1720927763739,
     "user": {
      "displayName": "GENTA ANDREAN",
      "userId": "04183275998534366528"
     },
     "user_tz": -420
    },
    "id": "b1ddf59b",
    "outputId": "68635e53-8a77-41de-f1dd-ce55d47bdfda"
   },
   "outputs": [],
   "source": [
    "from sklearn.compose import ColumnTransformer\n",
    "from sklearn.preprocessing import OneHotEncoder\n",
    "ct = ColumnTransformer(transformers=[('encoser', OneHotEncoder(), [0])])\n",
    "x = np.array(ct.fit_transform(x))"
   ]
  },
  {
   "cell_type": "code",
   "execution_count": 13,
   "id": "5a44886e",
   "metadata": {
    "ExecuteTime": {
     "end_time": "2024-06-25T08:04:43.593055Z",
     "start_time": "2024-06-25T08:04:43.588434Z"
    },
    "executionInfo": {
     "elapsed": 7,
     "status": "ok",
     "timestamp": 1720927763739,
     "user": {
      "displayName": "GENTA ANDREAN",
      "userId": "04183275998534366528"
     },
     "user_tz": -420
    },
    "id": "5a44886e"
   },
   "outputs": [
    {
     "name": "stdout",
     "output_type": "stream",
     "text": [
      "[[0. 0. 1.]\n",
      " [0. 0. 1.]\n",
      " [0. 1. 0.]\n",
      " ...\n",
      " [0. 0. 1.]\n",
      " [0. 0. 1.]\n",
      " [0. 0. 1.]]\n"
     ]
    }
   ],
   "source": [
    "print(x)"
   ]
  },
  {
   "cell_type": "code",
   "execution_count": 14,
   "id": "d0d6b840",
   "metadata": {
    "ExecuteTime": {
     "end_time": "2024-06-25T08:04:47.697593Z",
     "start_time": "2024-06-25T08:04:47.674362Z"
    },
    "executionInfo": {
     "elapsed": 7,
     "status": "ok",
     "timestamp": 1720927763739,
     "user": {
      "displayName": "GENTA ANDREAN",
      "userId": "04183275998534366528"
     },
     "user_tz": -420
    },
    "id": "d0d6b840"
   },
   "outputs": [],
   "source": [
    "from sklearn.preprocessing import LabelEncoder\n",
    "le = LabelEncoder()\n",
    "y = le.fit_transform(y)"
   ]
  },
  {
   "cell_type": "code",
   "execution_count": 15,
   "id": "bede132b",
   "metadata": {
    "ExecuteTime": {
     "end_time": "2024-06-25T08:04:57.504654Z",
     "start_time": "2024-06-25T08:04:57.479217Z"
    },
    "executionInfo": {
     "elapsed": 7,
     "status": "ok",
     "timestamp": 1720927763739,
     "user": {
      "displayName": "GENTA ANDREAN",
      "userId": "04183275998534366528"
     },
     "user_tz": -420
    },
    "id": "bede132b"
   },
   "outputs": [
    {
     "name": "stdout",
     "output_type": "stream",
     "text": [
      "[0 1 0 0 1 0 1 0 1 0 0 0 1 0 1 1 0 0 1 1 0 0 1 0 1 0 1 0 0 0 0 0 1 1 0 0 1\n",
      " 1 0 0 0 0 0 1 1 0 0 0 1 1 0 0 1 1 0 0 0 0 0 1 0 0 0 1 0 1 1 0 0 1 1 0 1 0\n",
      " 1 0 0 1 0 1 0 0 0 0 0 0 1 1 1 0 1 0 1 0 0 0 1 0 1 0 1 0 0 0 1 0 0 0 0 0 0\n",
      " 1 1 1 1 0 0 1 0 1 1 0 1 0 0 1 0 1 0 0 0 0 1 0 0 0 0 0 1 0 1 1 0 0 0 0 0 0\n",
      " 0 0 1 0 0 1 0 0 1 1 0 1 1 0 1 0 0 1 0 0 1 1 0 0 0 0 0 1 1 0 1 1 0 0 1 0 1\n",
      " 0 1 0 1 0 0 0 0 0 0 0 0 1 0 1 1 0 0 1 0 0 1 0 1 0 0 0 0 1 1 0 1 0 1 0 1 0\n",
      " 1 0 1 1 0 1 0 0 0 1 0 0 0 0 0 0 1 1 1 1 0 0 0 0 1 0 1 1 1 0 0 0 0 0 0 0 1\n",
      " 0 0 0 1 1 0 0 0 0 1 0 0 0 1 1 0 1 0 0 0 0 1 0 1 1 1 0 0 0 0 0 0 1 0 0 0 0\n",
      " 1 0 0 0 0 0 0 0 1 1 0 0 0 1 0 0 0 1 1 1 0 0 0 0 0 0 0 0 1 0 1 0 0 0 1 0 0\n",
      " 1 0 0 0 0 0 0 0 0 0 1 0 1 0 1 0 1 1 0 0 0 1 0 1 0 0 1 0 1 1 0 1 1 0 1 1 0\n",
      " 0 1 0 0 1 1 1 0 0 0 0 0 1 1 0 1 0 0 0 0 0 1 0 0 0 1 0 1 0 0 1 0 1 0 0 0 0\n",
      " 0 1 1 1 1 1 0 1 0 0 0]\n"
     ]
    }
   ],
   "source": [
    "print(y)"
   ]
  },
  {
   "cell_type": "code",
   "execution_count": 16,
   "id": "ec5fc493",
   "metadata": {
    "ExecuteTime": {
     "end_time": "2024-06-25T08:05:04.913578Z",
     "start_time": "2024-06-25T08:05:04.894617Z"
    },
    "colab": {
     "base_uri": "https://localhost:8080/"
    },
    "executionInfo": {
     "elapsed": 6,
     "status": "ok",
     "timestamp": 1720927763739,
     "user": {
      "displayName": "GENTA ANDREAN",
      "userId": "04183275998534366528"
     },
     "user_tz": -420
    },
    "id": "ec5fc493",
    "outputId": "c87b62d8-1dc4-4082-bc7b-d66382557d05"
   },
   "outputs": [],
   "source": [
    "from sklearn.model_selection import train_test_split\n",
    "x_train, x_test, y_train, y_test = train_test_split(x, y, test_size = 0.2, random_state =1)"
   ]
  },
  {
   "cell_type": "code",
   "execution_count": 17,
   "id": "14ef6d3a",
   "metadata": {
    "ExecuteTime": {
     "end_time": "2024-06-25T08:05:13.464582Z",
     "start_time": "2024-06-25T08:05:13.460252Z"
    },
    "executionInfo": {
     "elapsed": 6,
     "status": "ok",
     "timestamp": 1720927763739,
     "user": {
      "displayName": "GENTA ANDREAN",
      "userId": "04183275998534366528"
     },
     "user_tz": -420
    },
    "id": "14ef6d3a"
   },
   "outputs": [
    {
     "name": "stdout",
     "output_type": "stream",
     "text": [
      "[[0. 0. 1.]\n",
      " [1. 0. 0.]\n",
      " [0. 0. 1.]\n",
      " ...\n",
      " [0. 0. 1.]\n",
      " [0. 0. 1.]\n",
      " [0. 0. 1.]]\n"
     ]
    }
   ],
   "source": [
    "print(x_train)"
   ]
  },
  {
   "cell_type": "code",
   "execution_count": 18,
   "id": "4cf88859",
   "metadata": {
    "ExecuteTime": {
     "end_time": "2024-06-25T08:05:19.232521Z",
     "start_time": "2024-06-25T08:05:19.216580Z"
    },
    "executionInfo": {
     "elapsed": 6,
     "status": "ok",
     "timestamp": 1720927763739,
     "user": {
      "displayName": "GENTA ANDREAN",
      "userId": "04183275998534366528"
     },
     "user_tz": -420
    },
    "id": "4cf88859"
   },
   "outputs": [
    {
     "name": "stdout",
     "output_type": "stream",
     "text": [
      "[[0. 0. 1.]\n",
      " [0. 1. 0.]\n",
      " [0. 0. 1.]\n",
      " [1. 0. 0.]\n",
      " [0. 0. 1.]\n",
      " [0. 1. 0.]\n",
      " [0. 0. 1.]\n",
      " [1. 0. 0.]\n",
      " [0. 0. 1.]\n",
      " [0. 0. 1.]\n",
      " [0. 1. 0.]\n",
      " [0. 0. 1.]\n",
      " [1. 0. 0.]\n",
      " [1. 0. 0.]\n",
      " [0. 1. 0.]\n",
      " [0. 0. 1.]\n",
      " [0. 1. 0.]\n",
      " [0. 1. 0.]\n",
      " [0. 1. 0.]\n",
      " [0. 0. 1.]\n",
      " [0. 0. 1.]\n",
      " [0. 0. 1.]\n",
      " [0. 0. 1.]\n",
      " [0. 0. 1.]\n",
      " [0. 0. 1.]\n",
      " [0. 1. 0.]\n",
      " [0. 0. 1.]\n",
      " [1. 0. 0.]\n",
      " [0. 0. 1.]\n",
      " [0. 0. 1.]\n",
      " [0. 0. 1.]\n",
      " [1. 0. 0.]\n",
      " [0. 1. 0.]\n",
      " [0. 0. 1.]\n",
      " [0. 0. 1.]\n",
      " [0. 0. 1.]\n",
      " [0. 1. 0.]\n",
      " [0. 0. 1.]\n",
      " [0. 1. 0.]\n",
      " [1. 0. 0.]\n",
      " [0. 0. 1.]\n",
      " [0. 1. 0.]\n",
      " [0. 0. 1.]\n",
      " [0. 0. 1.]\n",
      " [0. 0. 1.]\n",
      " [0. 1. 0.]\n",
      " [0. 0. 1.]\n",
      " [0. 0. 1.]\n",
      " [0. 0. 1.]\n",
      " [0. 0. 1.]\n",
      " [0. 1. 0.]\n",
      " [0. 0. 1.]\n",
      " [0. 1. 0.]\n",
      " [0. 0. 1.]\n",
      " [0. 1. 0.]\n",
      " [0. 0. 1.]\n",
      " [1. 0. 0.]\n",
      " [0. 1. 0.]\n",
      " [0. 0. 1.]\n",
      " [0. 0. 1.]\n",
      " [0. 0. 1.]\n",
      " [1. 0. 0.]\n",
      " [1. 0. 0.]\n",
      " [1. 0. 0.]\n",
      " [0. 0. 1.]\n",
      " [0. 0. 1.]\n",
      " [0. 0. 1.]\n",
      " [0. 1. 0.]\n",
      " [0. 1. 0.]\n",
      " [0. 1. 0.]\n",
      " [0. 0. 1.]\n",
      " [0. 0. 1.]\n",
      " [0. 0. 1.]\n",
      " [0. 0. 1.]\n",
      " [1. 0. 0.]\n",
      " [0. 0. 1.]\n",
      " [0. 1. 0.]\n",
      " [1. 0. 0.]\n",
      " [0. 1. 0.]\n",
      " [1. 0. 0.]\n",
      " [1. 0. 0.]\n",
      " [0. 0. 1.]\n",
      " [1. 0. 0.]\n",
      " [0. 1. 0.]]\n"
     ]
    }
   ],
   "source": [
    "print(x_test)"
   ]
  },
  {
   "cell_type": "code",
   "execution_count": 19,
   "id": "c4165aec",
   "metadata": {
    "ExecuteTime": {
     "end_time": "2024-06-25T08:05:26.360368Z",
     "start_time": "2024-06-25T08:05:26.355668Z"
    },
    "colab": {
     "base_uri": "https://localhost:8080/"
    },
    "executionInfo": {
     "elapsed": 5,
     "status": "ok",
     "timestamp": 1720927763739,
     "user": {
      "displayName": "GENTA ANDREAN",
      "userId": "04183275998534366528"
     },
     "user_tz": -420
    },
    "id": "c4165aec",
    "outputId": "c0cb700e-7146-4392-fb66-f582f70c41e7"
   },
   "outputs": [
    {
     "name": "stdout",
     "output_type": "stream",
     "text": [
      "[0 1 1 0 1 0 0 1 0 0 0 0 0 1 0 0 1 1 1 0 1 0 0 0 0 0 0 0 0 0 1 0 1 1 0 0 1\n",
      " 0 1 1 0 0 1 0 0 0 1 0 1 1 0 0 1 0 1 1 1 1 1 0 0 0 0 0 1 1 0 1 0 0 0 1 0 0\n",
      " 0 1 1 0 1 0 1 0 0 0 0 0 0 1 1 1 0 1 0 0 0 0 1 0 0 1 0 1 0 1 0 1 1 0 0 0 1\n",
      " 0 0 1 0 1 0 1 1 0 0 0 1 0 0 0 1 0 1 0 0 0 1 1 1 0 0 0 1 1 0 1 1 1 1 0 0 1\n",
      " 0 0 1 0 1 1 0 1 1 0 0 0 0 1 1 0 0 1 1 0 1 0 0 0 1 0 0 0 0 0 1 1 0 1 1 0 0\n",
      " 0 0 0 1 1 1 0 0 0 0 0 0 0 1 0 0 1 0 1 0 1 0 0 1 1 0 1 0 1 0 0 0 1 0 0 0 0\n",
      " 0 0 1 0 1 0 0 1 1 1 0 0 0 1 1 1 1 0 1 0 1 1 0 0 0 0 0 0 0 0 1 0 0 1 1 0 1\n",
      " 0 0 0 0 0 0 0 0 0 0 0 1 1 1 1 0 0 0 0 1 0 0 0 0 1 0 1 1 0 0 1 0 0 0 0 0 1\n",
      " 0 0 0 1 1 1 0 0 0 1 1 0 1 0 0 0 1 0 1 0 0 0 1 0 0 0 0 0 0 0 0 1 0 0 1 0 0\n",
      " 1]\n"
     ]
    }
   ],
   "source": [
    "print(y_train)"
   ]
  },
  {
   "cell_type": "code",
   "execution_count": 20,
   "id": "128f9ace-77c4-4f64-93a2-15bc479962e7",
   "metadata": {
    "executionInfo": {
     "elapsed": 6,
     "status": "ok",
     "timestamp": 1720927763740,
     "user": {
      "displayName": "GENTA ANDREAN",
      "userId": "04183275998534366528"
     },
     "user_tz": -420
    },
    "id": "128f9ace-77c4-4f64-93a2-15bc479962e7"
   },
   "outputs": [
    {
     "name": "stdout",
     "output_type": "stream",
     "text": [
      "[0 0 0 0 1 0 1 0 0 0 0 1 0 1 0 1 0 0 0 0 1 0 0 0 0 0 0 0 0 0 1 1 1 0 0 0 0\n",
      " 0 0 1 1 0 1 0 0 1 0 0 0 1 0 1 1 0 0 0 1 1 0 1 0 0 1 0 0 1 0 0 0 0 1 0 0 1\n",
      " 1 1 0 1 0 0 0 0 0 0]\n"
     ]
    }
   ],
   "source": [
    "print(y_test)"
   ]
  },
  {
   "cell_type": "code",
   "execution_count": 22,
   "id": "de3b879f-5935-43fd-8c68-f2c355955858",
   "metadata": {
    "executionInfo": {
     "elapsed": 5,
     "status": "ok",
     "timestamp": 1720927763740,
     "user": {
      "displayName": "GENTA ANDREAN",
      "userId": "04183275998534366528"
     },
     "user_tz": -420
    },
    "id": "de3b879f-5935-43fd-8c68-f2c355955858"
   },
   "outputs": [],
   "source": [
    "from sklearn.preprocessing import StandardScaler\n",
    "sc = StandardScaler()\n",
    "x_train[:, 0:11] = sc.fit_transform(x_train[:, 0:11])\n",
    "x_test[:, 0:11] = sc.transform(x_test[:, 0:11])"
   ]
  },
  {
   "cell_type": "code",
   "execution_count": 23,
   "id": "c99250d3-9428-495e-a8fc-c6d63b4fdf9b",
   "metadata": {},
   "outputs": [
    {
     "name": "stdout",
     "output_type": "stream",
     "text": [
      "[[-0.61195228 -0.51492865  0.96469469]\n",
      " [ 1.63411434 -0.51492865 -1.0365974 ]\n",
      " [-0.61195228 -0.51492865  0.96469469]\n",
      " ...\n",
      " [-0.61195228 -0.51492865  0.96469469]\n",
      " [-0.61195228 -0.51492865  0.96469469]\n",
      " [-0.61195228 -0.51492865  0.96469469]]\n"
     ]
    }
   ],
   "source": [
    "print(x_train)"
   ]
  },
  {
   "cell_type": "code",
   "execution_count": 24,
   "id": "c5ab94a6-6525-47be-bb05-e44bda9c36ba",
   "metadata": {},
   "outputs": [
    {
     "name": "stdout",
     "output_type": "stream",
     "text": [
      "[[-0.61195228 -0.51492865  0.96469469]\n",
      " [-0.61195228  1.94201662 -1.0365974 ]\n",
      " [-0.61195228 -0.51492865  0.96469469]\n",
      " [ 1.63411434 -0.51492865 -1.0365974 ]\n",
      " [-0.61195228 -0.51492865  0.96469469]\n",
      " [-0.61195228  1.94201662 -1.0365974 ]\n",
      " [-0.61195228 -0.51492865  0.96469469]\n",
      " [ 1.63411434 -0.51492865 -1.0365974 ]\n",
      " [-0.61195228 -0.51492865  0.96469469]\n",
      " [-0.61195228 -0.51492865  0.96469469]\n",
      " [-0.61195228  1.94201662 -1.0365974 ]\n",
      " [-0.61195228 -0.51492865  0.96469469]\n",
      " [ 1.63411434 -0.51492865 -1.0365974 ]\n",
      " [ 1.63411434 -0.51492865 -1.0365974 ]\n",
      " [-0.61195228  1.94201662 -1.0365974 ]\n",
      " [-0.61195228 -0.51492865  0.96469469]\n",
      " [-0.61195228  1.94201662 -1.0365974 ]\n",
      " [-0.61195228  1.94201662 -1.0365974 ]\n",
      " [-0.61195228  1.94201662 -1.0365974 ]\n",
      " [-0.61195228 -0.51492865  0.96469469]\n",
      " [-0.61195228 -0.51492865  0.96469469]\n",
      " [-0.61195228 -0.51492865  0.96469469]\n",
      " [-0.61195228 -0.51492865  0.96469469]\n",
      " [-0.61195228 -0.51492865  0.96469469]\n",
      " [-0.61195228 -0.51492865  0.96469469]\n",
      " [-0.61195228  1.94201662 -1.0365974 ]\n",
      " [-0.61195228 -0.51492865  0.96469469]\n",
      " [ 1.63411434 -0.51492865 -1.0365974 ]\n",
      " [-0.61195228 -0.51492865  0.96469469]\n",
      " [-0.61195228 -0.51492865  0.96469469]\n",
      " [-0.61195228 -0.51492865  0.96469469]\n",
      " [ 1.63411434 -0.51492865 -1.0365974 ]\n",
      " [-0.61195228  1.94201662 -1.0365974 ]\n",
      " [-0.61195228 -0.51492865  0.96469469]\n",
      " [-0.61195228 -0.51492865  0.96469469]\n",
      " [-0.61195228 -0.51492865  0.96469469]\n",
      " [-0.61195228  1.94201662 -1.0365974 ]\n",
      " [-0.61195228 -0.51492865  0.96469469]\n",
      " [-0.61195228  1.94201662 -1.0365974 ]\n",
      " [ 1.63411434 -0.51492865 -1.0365974 ]\n",
      " [-0.61195228 -0.51492865  0.96469469]\n",
      " [-0.61195228  1.94201662 -1.0365974 ]\n",
      " [-0.61195228 -0.51492865  0.96469469]\n",
      " [-0.61195228 -0.51492865  0.96469469]\n",
      " [-0.61195228 -0.51492865  0.96469469]\n",
      " [-0.61195228  1.94201662 -1.0365974 ]\n",
      " [-0.61195228 -0.51492865  0.96469469]\n",
      " [-0.61195228 -0.51492865  0.96469469]\n",
      " [-0.61195228 -0.51492865  0.96469469]\n",
      " [-0.61195228 -0.51492865  0.96469469]\n",
      " [-0.61195228  1.94201662 -1.0365974 ]\n",
      " [-0.61195228 -0.51492865  0.96469469]\n",
      " [-0.61195228  1.94201662 -1.0365974 ]\n",
      " [-0.61195228 -0.51492865  0.96469469]\n",
      " [-0.61195228  1.94201662 -1.0365974 ]\n",
      " [-0.61195228 -0.51492865  0.96469469]\n",
      " [ 1.63411434 -0.51492865 -1.0365974 ]\n",
      " [-0.61195228  1.94201662 -1.0365974 ]\n",
      " [-0.61195228 -0.51492865  0.96469469]\n",
      " [-0.61195228 -0.51492865  0.96469469]\n",
      " [-0.61195228 -0.51492865  0.96469469]\n",
      " [ 1.63411434 -0.51492865 -1.0365974 ]\n",
      " [ 1.63411434 -0.51492865 -1.0365974 ]\n",
      " [ 1.63411434 -0.51492865 -1.0365974 ]\n",
      " [-0.61195228 -0.51492865  0.96469469]\n",
      " [-0.61195228 -0.51492865  0.96469469]\n",
      " [-0.61195228 -0.51492865  0.96469469]\n",
      " [-0.61195228  1.94201662 -1.0365974 ]\n",
      " [-0.61195228  1.94201662 -1.0365974 ]\n",
      " [-0.61195228  1.94201662 -1.0365974 ]\n",
      " [-0.61195228 -0.51492865  0.96469469]\n",
      " [-0.61195228 -0.51492865  0.96469469]\n",
      " [-0.61195228 -0.51492865  0.96469469]\n",
      " [-0.61195228 -0.51492865  0.96469469]\n",
      " [ 1.63411434 -0.51492865 -1.0365974 ]\n",
      " [-0.61195228 -0.51492865  0.96469469]\n",
      " [-0.61195228  1.94201662 -1.0365974 ]\n",
      " [ 1.63411434 -0.51492865 -1.0365974 ]\n",
      " [-0.61195228  1.94201662 -1.0365974 ]\n",
      " [ 1.63411434 -0.51492865 -1.0365974 ]\n",
      " [ 1.63411434 -0.51492865 -1.0365974 ]\n",
      " [-0.61195228 -0.51492865  0.96469469]\n",
      " [ 1.63411434 -0.51492865 -1.0365974 ]\n",
      " [-0.61195228  1.94201662 -1.0365974 ]]\n"
     ]
    }
   ],
   "source": [
    "print(x_test)"
   ]
  },
  {
   "cell_type": "code",
   "execution_count": null,
   "id": "0a515a73-b861-47b9-8c53-77b218977182",
   "metadata": {},
   "outputs": [],
   "source": []
  }
 ],
 "metadata": {
  "colab": {
   "provenance": []
  },
  "kernelspec": {
   "display_name": "Python 3 (ipykernel)",
   "language": "python",
   "name": "python3"
  },
  "language_info": {
   "codemirror_mode": {
    "name": "ipython",
    "version": 3
   },
   "file_extension": ".py",
   "mimetype": "text/x-python",
   "name": "python",
   "nbconvert_exporter": "python",
   "pygments_lexer": "ipython3",
   "version": "3.11.7"
  },
  "toc": {
   "base_numbering": 1,
   "nav_menu": {},
   "number_sections": true,
   "sideBar": true,
   "skip_h1_title": false,
   "title_cell": "Table of Contents",
   "title_sidebar": "Contents",
   "toc_cell": false,
   "toc_position": {},
   "toc_section_display": true,
   "toc_window_display": false
  },
  "varInspector": {
   "cols": {
    "lenName": 16,
    "lenType": 16,
    "lenVar": 40
   },
   "kernels_config": {
    "python": {
     "delete_cmd_postfix": "",
     "delete_cmd_prefix": "del ",
     "library": "var_list.py",
     "varRefreshCmd": "print(var_dic_list())"
    },
    "r": {
     "delete_cmd_postfix": ") ",
     "delete_cmd_prefix": "rm(",
     "library": "var_list.r",
     "varRefreshCmd": "cat(var_dic_list()) "
    }
   },
   "types_to_exclude": [
    "module",
    "function",
    "builtin_function_or_method",
    "instance",
    "_Feature"
   ],
   "window_display": false
  }
 },
 "nbformat": 4,
 "nbformat_minor": 5
}
